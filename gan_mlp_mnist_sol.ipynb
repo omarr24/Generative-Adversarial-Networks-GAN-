{
  "nbformat": 4,
  "nbformat_minor": 0,
  "metadata": {
    "colab": {
      "provenance": [],
      "toc_visible": true,
      "gpuType": "T4"
    },
    "kernelspec": {
      "name": "python3",
      "display_name": "Python 3"
    },
    "language_info": {
      "name": "python"
    },
    "accelerator": "GPU"
  },
  "cells": [
    {
      "cell_type": "markdown",
      "source": [
        "# Machine Learning and Data Science (MALDSAC) 2024\n",
        "\n",
        "In this demo, we will get hands-on experience on GANs"
      ],
      "metadata": {
        "id": "nSRJQUTzYjJ4"
      }
    },
    {
      "cell_type": "markdown",
      "source": [
        "## Imports"
      ],
      "metadata": {
        "id": "I4aNRjbrYgb8"
      }
    },
    {
      "cell_type": "code",
      "execution_count": null,
      "metadata": {
        "id": "2tM9K8FnYa9R"
      },
      "outputs": [],
      "source": [
        "# Import necessary libraries\n",
        "import time                       # For time-related operations\n",
        "import numpy as np                # For numerical operations\n",
        "import torch                      # PyTorch library for deep learning\n",
        "import torch.nn.functional as F   # PyTorch functional interface\n",
        "from torchvision import datasets # Datasets provided by torchvision\n",
        "from torchvision import transforms  # Transformations for image preprocessing\n",
        "import torch.nn as nn             # Neural network modules provided by PyTorch\n",
        "from torch.utils.data import DataLoader  # DataLoader for handling datasets in PyTorch\n",
        "import matplotlib.cm as cm\n",
        "\n",
        "# Import matplotlib for plotting\n",
        "%matplotlib inline\n",
        "import matplotlib.pyplot as plt\n",
        "\n",
        "# Check if CUDA (GPU) is available and set deterministic behavior for CuDNN\n",
        "if torch.cuda.is_available():\n",
        "    torch.backends.cudnn.deterministic = True"
      ]
    },
    {
      "cell_type": "markdown",
      "source": [
        "## Global Settings"
      ],
      "metadata": {
        "id": "rXN8oao7Yp1P"
      }
    },
    {
      "cell_type": "code",
      "source": [
        "##########################\n",
        "### SETTINGS\n",
        "##########################\n",
        "\n",
        "# Device: Set the device to CUDA (GPU) if available, otherwise CPU\n",
        "device = torch.device(\"cuda:0\" if torch.cuda.is_available() else \"cpu\")\n",
        "\n",
        "# Hyperparameters\n",
        "random_seed = 123  # Random seed for reproducibility\n",
        "generator_learning_rate = 0.001  # Learning rate for the generator\n",
        "discriminator_learning_rate = 0.001  # Learning rate for the discriminator\n",
        "NUM_EPOCHS = 100  # Number of training epochs\n",
        "BATCH_SIZE = 128  # Batch size for training\n",
        "LATENT_DIM = 75  # Dimensionality of the latent space\n",
        "IMG_SHAPE = (1, 28, 28)  # Shape of the input images (1 channel, 28x28 pixels)\n",
        "IMG_SIZE = 1  # Initialize IMG_SIZE variable\n",
        "for x in IMG_SHAPE:\n",
        "    IMG_SIZE *= x  # Calculate the total number of features in the input image\n",
        "\n",
        "\n",
        "print(IMG_SIZE)"
      ],
      "metadata": {
        "colab": {
          "base_uri": "https://localhost:8080/"
        },
        "id": "NVmEgb_6YqAM",
        "outputId": "47a27641-30af-4c6f-8614-8d0eab5121a7"
      },
      "execution_count": null,
      "outputs": [
        {
          "output_type": "stream",
          "name": "stdout",
          "text": [
            "784\n"
          ]
        }
      ]
    },
    {
      "cell_type": "markdown",
      "source": [
        "## Dataset\n",
        "-------------------\n",
        "\n",
        "MNIST images show digits from 0-9 in 28x28 grayscale images. We normalize and center them around 0, which gives a slight performance boost during training.\n",
        "We create both a training set and a test set."
      ],
      "metadata": {
        "id": "jCMxK14OY1Ey"
      }
    },
    {
      "cell_type": "markdown",
      "source": [
        "<center>\n",
        "<a href=\"http://yann.lecun.com/exdb/mnist/\">\n",
        "<img src=\"https://drive.google.com/uc?export=view&id=13JlBCTfoRd0hzkuf3txMvyU2dI9jga7_\" width=\"100%\"/>\n",
        "</a>\n",
        "<center/>\n",
        "<center> Figure. MNIST Handwritten digits dataset </center>"
      ],
      "metadata": {
        "id": "WPJ0z9sGdAKh"
      }
    },
    {
      "cell_type": "code",
      "source": [
        "##########################\n",
        "### MNIST DATASET\n",
        "##########################\n",
        "\n",
        "# Define training dataset: MNIST, consisting of handwritten digits\n",
        "train_dataset = datasets.MNIST(root='data',        # Root directory to save the dataset\n",
        "                               train=True,        # Set to True to load the training set\n",
        "                               transform=transforms.ToTensor(),  # Convert images to PyTorch tensors\n",
        "                               download=True)     # Download the dataset if not already downloaded\n",
        "\n",
        "# Create DataLoader for training dataset, to load data in batches during training\n",
        "train_loader = DataLoader(dataset=train_dataset,   # Training dataset to load\n",
        "                          batch_size=BATCH_SIZE,  # Batch size for training\n",
        "                          shuffle=True)          # Shuffle the data at each epoch"
      ],
      "metadata": {
        "colab": {
          "base_uri": "https://localhost:8080/"
        },
        "id": "fpqQ5YIHY1UI",
        "outputId": "f3bf6e9f-a3e4-4be4-d4b1-81767482f7e7"
      },
      "execution_count": null,
      "outputs": [
        {
          "output_type": "stream",
          "name": "stdout",
          "text": [
            "Downloading http://yann.lecun.com/exdb/mnist/train-images-idx3-ubyte.gz\n",
            "Downloading http://yann.lecun.com/exdb/mnist/train-images-idx3-ubyte.gz to data/MNIST/raw/train-images-idx3-ubyte.gz\n"
          ]
        },
        {
          "output_type": "stream",
          "name": "stderr",
          "text": [
            "100%|██████████| 9912422/9912422 [00:00<00:00, 163518452.76it/s]"
          ]
        },
        {
          "output_type": "stream",
          "name": "stdout",
          "text": [
            "Extracting data/MNIST/raw/train-images-idx3-ubyte.gz to data/MNIST/raw\n"
          ]
        },
        {
          "output_type": "stream",
          "name": "stderr",
          "text": [
            "\n"
          ]
        },
        {
          "output_type": "stream",
          "name": "stdout",
          "text": [
            "\n",
            "Downloading http://yann.lecun.com/exdb/mnist/train-labels-idx1-ubyte.gz\n",
            "Downloading http://yann.lecun.com/exdb/mnist/train-labels-idx1-ubyte.gz to data/MNIST/raw/train-labels-idx1-ubyte.gz\n"
          ]
        },
        {
          "output_type": "stream",
          "name": "stderr",
          "text": [
            "100%|██████████| 28881/28881 [00:00<00:00, 109427004.36it/s]\n"
          ]
        },
        {
          "output_type": "stream",
          "name": "stdout",
          "text": [
            "Extracting data/MNIST/raw/train-labels-idx1-ubyte.gz to data/MNIST/raw\n",
            "\n",
            "Downloading http://yann.lecun.com/exdb/mnist/t10k-images-idx3-ubyte.gz\n",
            "Downloading http://yann.lecun.com/exdb/mnist/t10k-images-idx3-ubyte.gz to data/MNIST/raw/t10k-images-idx3-ubyte.gz\n"
          ]
        },
        {
          "output_type": "stream",
          "name": "stderr",
          "text": [
            "100%|██████████| 1648877/1648877 [00:00<00:00, 105291953.73it/s]"
          ]
        },
        {
          "output_type": "stream",
          "name": "stdout",
          "text": [
            "Extracting data/MNIST/raw/t10k-images-idx3-ubyte.gz to data/MNIST/raw\n"
          ]
        },
        {
          "output_type": "stream",
          "name": "stderr",
          "text": [
            "\n"
          ]
        },
        {
          "output_type": "stream",
          "name": "stdout",
          "text": [
            "\n",
            "Downloading http://yann.lecun.com/exdb/mnist/t10k-labels-idx1-ubyte.gz\n",
            "Downloading http://yann.lecun.com/exdb/mnist/t10k-labels-idx1-ubyte.gz to data/MNIST/raw/t10k-labels-idx1-ubyte.gz\n"
          ]
        },
        {
          "output_type": "stream",
          "name": "stderr",
          "text": [
            "100%|██████████| 4542/4542 [00:00<00:00, 23606603.18it/s]\n"
          ]
        },
        {
          "output_type": "stream",
          "name": "stdout",
          "text": [
            "Extracting data/MNIST/raw/t10k-labels-idx1-ubyte.gz to data/MNIST/raw\n",
            "\n"
          ]
        }
      ]
    },
    {
      "cell_type": "code",
      "source": [
        "nsamples = 10\n",
        "classes_names = ['0', '1', '2', '3', '4', '5','6', '7', '8', '9']\n",
        "imgs, labels = next(iter(train_loader))\n",
        "\n",
        "fig=plt.figure(figsize=(20,5),facecolor='w')\n",
        "for i in range(nsamples):\n",
        "    ax = plt.subplot(1,nsamples, i+1)\n",
        "    plt.imshow(imgs[i, 0, :, :], vmin=0, vmax=1.0, cmap=cm.gray)\n",
        "    ax.set_title(\"{}\".format(classes_names[labels[i]]), fontsize=15)\n",
        "    ax.get_xaxis().set_visible(False)\n",
        "    ax.get_yaxis().set_visible(False)"
      ],
      "metadata": {
        "colab": {
          "base_uri": "https://localhost:8080/",
          "height": 192
        },
        "id": "Su0YXDpafSU1",
        "outputId": "31dd0fe5-ee5d-4bb7-aa0c-924ca5572bc8"
      },
      "execution_count": null,
      "outputs": [
        {
          "output_type": "display_data",
          "data": {
            "text/plain": [
              "<Figure size 2000x500 with 10 Axes>"
            ],
            "image/png": "[encoded data removed]"
          },
          "metadata": {}
        }
      ]
    },
    {
      "cell_type": "code",
      "source": [
        "# Define test dataset: MNIST test set\n",
        "test_dataset = datasets.MNIST(root='data',         # Root directory to save the dataset\n",
        "                              train=False,         # Set to False to load the test set\n",
        "                              transform=transforms.ToTensor())  # Convert images to PyTorch tensors\n",
        "\n",
        "# Create DataLoader for test dataset, to load data in batches during testing/evaluation\n",
        "test_loader = DataLoader(dataset=test_dataset,     # Test dataset to load\n",
        "                         batch_size=BATCH_SIZE,   # Batch size for testing\n",
        "                         shuffle=False)           # Do not shuffle the data during testing"
      ],
      "metadata": {
        "id": "NYpGB03BfHxn"
      },
      "execution_count": null,
      "outputs": []
    },
    {
      "cell_type": "code",
      "source": [
        "nsamples=10\n",
        "classes_names = ['0', '1', '2', '3', '4', '5','6', '7', '8', '9']\n",
        "imgs, labels = next(iter(test_loader))\n",
        "\n",
        "fig=plt.figure(figsize=(20,5),facecolor='w')\n",
        "for i in range(nsamples):\n",
        "    ax = plt.subplot(1,nsamples, i+1)\n",
        "    plt.imshow(imgs[i, 0, :, :], vmin=0, vmax=1.0, cmap=cm.gray)\n",
        "    ax.set_title(\"{}\".format(classes_names[labels[i]]), fontsize=15)\n",
        "    ax.get_xaxis().set_visible(False)\n",
        "    ax.get_yaxis().set_visible(False)"
      ],
      "metadata": {
        "colab": {
          "base_uri": "https://localhost:8080/",
          "height": 192
        },
        "id": "9y8owZZyfWtm",
        "outputId": "5cb93bda-ce33-4620-c1cd-441658462f86"
      },
      "execution_count": null,
      "outputs": [
        {
          "output_type": "display_data",
          "data": {
            "text/plain": [
              "<Figure size 2000x500 with 10 Axes>"
            ],
            "image/png": "[encoded data removed]"
          },
          "metadata": {}
        }
      ]
    },
    {
      "cell_type": "code",
      "source": [
        "# Checking the dataset\n",
        "for images, labels in train_loader:\n",
        "    print('Image batch dimensions:', images.shape)\n",
        "    print('Image label dimensions:', labels.shape)\n",
        "    break"
      ],
      "metadata": {
        "colab": {
          "base_uri": "https://localhost:8080/"
        },
        "id": "F4u7DBwPen_e",
        "outputId": "7dcd47f1-26d6-41b8-de76-c9447a7a92ac"
      },
      "execution_count": null,
      "outputs": [
        {
          "output_type": "stream",
          "name": "stdout",
          "text": [
            "Image batch dimensions: torch.Size([128, 1, 28, 28])\n",
            "Image label dimensions: torch.Size([128])\n"
          ]
        }
      ]
    },
    {
      "cell_type": "code",
      "source": [
        "print(\"The train set contains {} images, in {} batches\".format(len(train_loader.dataset), len(train_loader)))\n",
        "print(\"The test set contains {} images, in {} batches\".format(len(test_loader.dataset), len(test_loader)))"
      ],
      "metadata": {
        "colab": {
          "base_uri": "https://localhost:8080/"
        },
        "id": "uReh42a2fNiY",
        "outputId": "85de1451-3b4b-4127-f1a3-b383d36ba82b"
      },
      "execution_count": null,
      "outputs": [
        {
          "output_type": "stream",
          "name": "stdout",
          "text": [
            "The train set contains 60000 images, in 469 batches\n",
            "The test set contains 10000 images, in 79 batches\n"
          ]
        }
      ]
    },
    {
      "cell_type": "markdown",
      "source": [
        "## Model"
      ],
      "metadata": {
        "id": "RfTotl4rY6q2"
      }
    },
    {
      "cell_type": "code",
      "source": [
        "##########################\n",
        "### MODEL\n",
        "##########################\n",
        "\n",
        "\n",
        "# Define a GAN class inheriting from torch.nn.Module\n",
        "class GAN(torch.nn.Module):\n",
        "\n",
        "    # Constructor method to initialize the GAN\n",
        "    def __init__(self):\n",
        "        super(GAN, self).__init__()\n",
        "\n",
        "        # Define the generator neural network architecture\n",
        "        self.generator = nn.Sequential(\n",
        "            nn.Linear(LATENT_DIM, 128),    # Linear layer with input size of LATENT_DIM and output size of 128\n",
        "            nn.LeakyReLU(inplace=True),    # Leaky ReLU activation function\n",
        "            nn.Dropout(p=0.5),             # Dropout layer with dropout probability of 0.5\n",
        "            nn.Linear(128, IMG_SIZE),      # Linear layer with input size of 128 and output size of IMG_SIZE\n",
        "            nn.Tanh()                      # Tanh activation function to normalize output to range [-1, 1]\n",
        "        )\n",
        "\n",
        "        # Define the discriminator neural network architecture\n",
        "        self.discriminator = nn.Sequential(\n",
        "            nn.Linear(IMG_SIZE, 128),      # Linear layer with input size of IMG_SIZE and output size of 128\n",
        "            nn.LeakyReLU(inplace=True),    # Leaky ReLU activation function\n",
        "            nn.Dropout(p=0.5),             # Dropout layer with dropout probability of 0.5\n",
        "            nn.Linear(128, 1),             # Linear layer with input size of 128 and output size of 1\n",
        "            nn.Sigmoid()                   # Sigmoid activation function for binary classification\n",
        "        )\n",
        "\n",
        "    # Method for forward pass of the generator\n",
        "    def generator_forward(self, z):\n",
        "        img = self.generator(z)  # Pass input noise vector z through the generator\n",
        "        return img               # Return the generated image\n",
        "\n",
        "    # Method for forward pass of the discriminator\n",
        "    def discriminator_forward(self, img):\n",
        "        pred = self.discriminator(img)  # Pass input image through the discriminator\n",
        "        return pred.view(-1)            # Flatten and return the discriminator's prediction"
      ],
      "metadata": {
        "id": "WNJkDTpcY5z5"
      },
      "execution_count": null,
      "outputs": []
    },
    {
      "cell_type": "markdown",
      "source": [
        "Initliase model"
      ],
      "metadata": {
        "id": "E0kRgrIGZCyo"
      }
    },
    {
      "cell_type": "code",
      "source": [
        "torch.manual_seed(random_seed)\n",
        "\n",
        "model = GAN()\n",
        "model = model.to(device)"
      ],
      "metadata": {
        "id": "o90AZhqWZEzy"
      },
      "execution_count": null,
      "outputs": []
    },
    {
      "cell_type": "markdown",
      "source": [
        "## Optimiser\n",
        "-------------------\n",
        "\n",
        "In order to update the model parameters using the computed gradients (`backward()`), we need  to define an optimizer which as its names says, it optimizes the parameters of a neural network is\n",
        "performed by some kind of gradient descent. In PyTorch there are different optimizers\n",
        "provided in the [torch.optim\n",
        "package](https://pytorch.org/docs/stable/optim.html). We will focus on the [SGD\n",
        "optimizer](https://pytorch.org/docs/stable/optim.html#torch.optim.sgd) and on the\n",
        "[Adam\n",
        "optimizer](https://pytorch.org/docs/stable/optim.html#torch.optim.Adam), which are two of the most common and stable optimizers. For that purposes, the optimizer needs a reference to the parameters that it needs\n",
        "to modify.\n",
        "\n",
        "```\n",
        "optimizer = torch.optim.SGD(model.parameters(), lr=learning_rate)\n",
        "```\n",
        "\n",
        "```\n",
        "optimizer = torch.optim.Adam(model.parameters(), lr=learning_rate)\n",
        "```"
      ],
      "metadata": {
        "id": "TNDC4AmuZFtp"
      }
    },
    {
      "cell_type": "code",
      "source": [
        "# Define optimizer for the Generator and setting learning rate\n",
        "optim_gener = torch.optim.Adam(model.generator.parameters(), lr=generator_learning_rate)"
      ],
      "metadata": {
        "id": "Oa5xEUbMZ1Pk"
      },
      "execution_count": null,
      "outputs": []
    },
    {
      "cell_type": "code",
      "source": [
        "# Define optimizer for the Discriminator and setting learning rate\n",
        "optim_discr = torch.optim.Adam(model.discriminator.parameters(), lr=discriminator_learning_rate)"
      ],
      "metadata": {
        "id": "uMs4pv-uZC8k"
      },
      "execution_count": null,
      "outputs": []
    },
    {
      "cell_type": "markdown",
      "source": [
        "## Train"
      ],
      "metadata": {
        "id": "gJ4fuPfcZJca"
      }
    },
    {
      "cell_type": "code",
      "source": [
        "# Start tracking time for training duration\n",
        "start_time = time.time()\n",
        "\n",
        "# Lists to store discriminator and generator costs for logging\n",
        "discr_costs = []\n",
        "gener_costs = []\n",
        "\n",
        "# Train over epochs\n",
        "for epoch in range(NUM_EPOCHS):\n",
        "\n",
        "    # Set the model in training mode\n",
        "    model = model.train()\n",
        "\n",
        "    # Iterate over batches in the training loader\n",
        "    for batch_idx, (features, targets) in enumerate(train_loader):\n",
        "\n",
        "        # Preprocess features (normalize to range [-1, 1])\n",
        "        features = (features - 0.5)*2.\n",
        "\n",
        "        # Vectorise image to vector\n",
        "        features = features.view(-1, IMG_SIZE).to(device)\n",
        "        targets = targets.to(device)\n",
        "\n",
        "        # Create tensors for real and fake labels\n",
        "        valid = torch.ones(targets.size(0)).float().to(device)\n",
        "        fake = torch.zeros(targets.size(0)).float().to(device)\n",
        "\n",
        "\n",
        "        ### FORWARD AND BACK PROP\n",
        "\n",
        "\n",
        "        # --------------------------\n",
        "        # Train Generator G()\n",
        "        # --------------------------\n",
        "\n",
        "        # Train Generator\n",
        "        # Generate synthetic samples\n",
        "        z = torch.zeros((targets.size(0), LATENT_DIM)).uniform_(-1.0, 1.0).to(device)\n",
        "        generated_features = model.generator_forward(z)\n",
        "\n",
        "        # Calculate generator loss based on discriminator's prediction\n",
        "        discr_pred = model.discriminator_forward(generated_features)\n",
        "        gener_loss = F.binary_cross_entropy(discr_pred, valid)\n",
        "\n",
        "        # Backpropagate and update generator's parameters\n",
        "        optim_gener.zero_grad()\n",
        "        gener_loss.backward()\n",
        "        optim_gener.step()\n",
        "\n",
        "        # --------------------------\n",
        "        # Train Discriminator D()\n",
        "        # --------------------------\n",
        "\n",
        "        # Calculate discriminator loss for real samples\n",
        "        discr_pred_real = model.discriminator_forward(features.view(-1, IMG_SIZE))\n",
        "        real_loss = F.binary_cross_entropy(discr_pred_real, valid)\n",
        "\n",
        "        # Calculate discriminator loss for synthetic images\n",
        "        discr_pred_fake = model.discriminator_forward(generated_features.detach())\n",
        "        fake_loss = F.binary_cross_entropy(discr_pred_fake, fake)\n",
        "\n",
        "        # Overall discriminator loss\n",
        "        discr_loss = 0.5*(real_loss + fake_loss)\n",
        "\n",
        "        # Backpropagate and update discriminator's parameters\n",
        "        optim_discr.zero_grad()\n",
        "        discr_loss.backward()\n",
        "        optim_discr.step()\n",
        "\n",
        "        # Log discriminator and generator losses\n",
        "        discr_costs.append(discr_loss)\n",
        "        gener_costs.append(gener_loss)\n",
        "\n",
        "\n",
        "        ### LOGGING\n",
        "        if not batch_idx % 100:\n",
        "            print ('Epoch: %03d/%03d | Batch %03d/%03d | Gen/Dis Loss: %.4f/%.4f'\n",
        "                   %(epoch+1, NUM_EPOCHS, batch_idx,\n",
        "                     len(train_loader), gener_loss, discr_loss))\n",
        "\n",
        "    # Print elapsed time for each epoch\n",
        "    print('Time elapsed: %.2f min' % ((time.time() - start_time)/60))\n",
        "\n",
        "# Print total training time\n",
        "print('Total Training Time: %.2f min' % ((time.time() - start_time)/60))"
      ],
      "metadata": {
        "colab": {
          "base_uri": "https://localhost:8080/"
        },
        "id": "05UOLVeiZJrE",
        "outputId": "9d9f77a2-8c61-4942-c017-94852d83c578"
      },
      "execution_count": null,
      "outputs": [
        {
          "output_type": "stream",
          "name": "stdout",
          "text": [
            "Epoch: 001/100 | Batch 000/469 | Gen/Dis Loss: 0.6516/0.7081\n",
            "Epoch: 001/100 | Batch 100/469 | Gen/Dis Loss: 5.0422/0.0353\n",
            "Epoch: 001/100 | Batch 200/469 | Gen/Dis Loss: 1.7976/0.1096\n",
            "Epoch: 001/100 | Batch 300/469 | Gen/Dis Loss: 1.4743/0.1647\n",
            "Epoch: 001/100 | Batch 400/469 | Gen/Dis Loss: 2.2171/0.0878\n",
            "Time elapsed: 0.27 min\n",
            "Epoch: 002/100 | Batch 000/469 | Gen/Dis Loss: 1.6841/0.2443\n",
            "Epoch: 002/100 | Batch 100/469 | Gen/Dis Loss: 1.7972/0.2089\n",
            "Epoch: 002/100 | Batch 200/469 | Gen/Dis Loss: 1.2132/0.3058\n",
            "Epoch: 002/100 | Batch 300/469 | Gen/Dis Loss: 1.2526/0.3411\n",
            "Epoch: 002/100 | Batch 400/469 | Gen/Dis Loss: 0.9571/0.4133\n",
            "Time elapsed: 0.40 min\n",
            "Epoch: 003/100 | Batch 000/469 | Gen/Dis Loss: 1.0954/0.3931\n",
            "Epoch: 003/100 | Batch 100/469 | Gen/Dis Loss: 0.9545/0.4301\n",
            "Epoch: 003/100 | Batch 200/469 | Gen/Dis Loss: 0.7646/0.5385\n",
            "Epoch: 003/100 | Batch 300/469 | Gen/Dis Loss: 1.0999/0.4240\n",
            "Epoch: 003/100 | Batch 400/469 | Gen/Dis Loss: 1.2105/0.3573\n",
            "Time elapsed: 0.54 min\n",
            "Epoch: 004/100 | Batch 000/469 | Gen/Dis Loss: 1.1888/0.4039\n",
            "Epoch: 004/100 | Batch 100/469 | Gen/Dis Loss: 1.1513/0.4360\n",
            "Epoch: 004/100 | Batch 200/469 | Gen/Dis Loss: 1.3855/0.4456\n",
            "Epoch: 004/100 | Batch 300/469 | Gen/Dis Loss: 0.8720/0.5012\n",
            "Epoch: 004/100 | Batch 400/469 | Gen/Dis Loss: 0.7749/0.5779\n",
            "Time elapsed: 0.69 min\n",
            "Epoch: 005/100 | Batch 000/469 | Gen/Dis Loss: 1.0122/0.4645\n",
            "Epoch: 005/100 | Batch 100/469 | Gen/Dis Loss: 0.8039/0.5787\n",
            "Epoch: 005/100 | Batch 200/469 | Gen/Dis Loss: 1.5908/0.4701\n",
            "Epoch: 005/100 | Batch 300/469 | Gen/Dis Loss: 0.9049/0.4819\n",
            "Epoch: 005/100 | Batch 400/469 | Gen/Dis Loss: 0.8878/0.6020\n",
            "Time elapsed: 0.82 min\n",
            "Epoch: 006/100 | Batch 000/469 | Gen/Dis Loss: 0.9007/0.4879\n",
            "Epoch: 006/100 | Batch 100/469 | Gen/Dis Loss: 1.4473/0.4356\n",
            "Epoch: 006/100 | Batch 200/469 | Gen/Dis Loss: 1.4498/0.3385\n",
            "Epoch: 006/100 | Batch 300/469 | Gen/Dis Loss: 1.2094/0.4238\n",
            "Epoch: 006/100 | Batch 400/469 | Gen/Dis Loss: 1.0281/0.4972\n",
            "Time elapsed: 0.96 min\n",
            "Epoch: 007/100 | Batch 000/469 | Gen/Dis Loss: 1.0331/0.5363\n",
            "Epoch: 007/100 | Batch 100/469 | Gen/Dis Loss: 1.5562/0.4724\n",
            "Epoch: 007/100 | Batch 200/469 | Gen/Dis Loss: 0.8665/0.4876\n",
            "Epoch: 007/100 | Batch 300/469 | Gen/Dis Loss: 1.6622/0.4868\n",
            "Epoch: 007/100 | Batch 400/469 | Gen/Dis Loss: 1.0727/0.5138\n",
            "Time elapsed: 1.10 min\n",
            "Epoch: 008/100 | Batch 000/469 | Gen/Dis Loss: 1.1947/0.4910\n",
            "Epoch: 008/100 | Batch 100/469 | Gen/Dis Loss: 1.1458/0.5027\n",
            "Epoch: 008/100 | Batch 200/469 | Gen/Dis Loss: 0.7673/0.6305\n",
            "Epoch: 008/100 | Batch 300/469 | Gen/Dis Loss: 1.1133/0.4841\n",
            "Epoch: 008/100 | Batch 400/469 | Gen/Dis Loss: 1.1857/0.5983\n",
            "Time elapsed: 1.25 min\n",
            "Epoch: 009/100 | Batch 000/469 | Gen/Dis Loss: 0.9379/0.5610\n",
            "Epoch: 009/100 | Batch 100/469 | Gen/Dis Loss: 1.1643/0.4749\n",
            "Epoch: 009/100 | Batch 200/469 | Gen/Dis Loss: 1.1969/0.5560\n",
            "Epoch: 009/100 | Batch 300/469 | Gen/Dis Loss: 1.3701/0.5268\n",
            "Epoch: 009/100 | Batch 400/469 | Gen/Dis Loss: 2.2130/0.4830\n",
            "Time elapsed: 1.38 min\n",
            "Epoch: 010/100 | Batch 000/469 | Gen/Dis Loss: 0.8492/0.5709\n",
            "Epoch: 010/100 | Batch 100/469 | Gen/Dis Loss: 0.9488/0.5062\n",
            "Epoch: 010/100 | Batch 200/469 | Gen/Dis Loss: 1.1059/0.4929\n",
            "Epoch: 010/100 | Batch 300/469 | Gen/Dis Loss: 1.3072/0.5408\n",
            "Epoch: 010/100 | Batch 400/469 | Gen/Dis Loss: 1.2435/0.5826\n",
            "Time elapsed: 1.52 min\n",
            "Epoch: 011/100 | Batch 000/469 | Gen/Dis Loss: 1.3647/0.5221\n",
            "Epoch: 011/100 | Batch 100/469 | Gen/Dis Loss: 1.0341/0.5410\n",
            "Epoch: 011/100 | Batch 200/469 | Gen/Dis Loss: 1.2561/0.5231\n",
            "Epoch: 011/100 | Batch 300/469 | Gen/Dis Loss: 0.8062/0.6268\n",
            "Epoch: 011/100 | Batch 400/469 | Gen/Dis Loss: 0.9777/0.5608\n",
            "Time elapsed: 1.67 min\n",
            "Epoch: 012/100 | Batch 000/469 | Gen/Dis Loss: 1.1434/0.5599\n",
            "Epoch: 012/100 | Batch 100/469 | Gen/Dis Loss: 0.9680/0.5778\n",
            "Epoch: 012/100 | Batch 200/469 | Gen/Dis Loss: 0.9113/0.6658\n",
            "Epoch: 012/100 | Batch 300/469 | Gen/Dis Loss: 1.0614/0.4926\n",
            "Epoch: 012/100 | Batch 400/469 | Gen/Dis Loss: 1.2838/0.5312\n",
            "Time elapsed: 1.82 min\n",
            "Epoch: 013/100 | Batch 000/469 | Gen/Dis Loss: 1.0372/0.5243\n",
            "Epoch: 013/100 | Batch 100/469 | Gen/Dis Loss: 1.1346/0.4965\n",
            "Epoch: 013/100 | Batch 200/469 | Gen/Dis Loss: 1.0448/0.5610\n",
            "Epoch: 013/100 | Batch 300/469 | Gen/Dis Loss: 1.1529/0.5076\n",
            "Epoch: 013/100 | Batch 400/469 | Gen/Dis Loss: 1.0811/0.5097\n",
            "Time elapsed: 1.96 min\n",
            "Epoch: 014/100 | Batch 000/469 | Gen/Dis Loss: 1.2552/0.5710\n",
            "Epoch: 014/100 | Batch 100/469 | Gen/Dis Loss: 1.0999/0.4775\n",
            "Epoch: 014/100 | Batch 200/469 | Gen/Dis Loss: 0.9942/0.5426\n",
            "Epoch: 014/100 | Batch 300/469 | Gen/Dis Loss: 1.1328/0.6009\n",
            "Epoch: 014/100 | Batch 400/469 | Gen/Dis Loss: 0.8931/0.6056\n",
            "Time elapsed: 2.10 min\n",
            "Epoch: 015/100 | Batch 000/469 | Gen/Dis Loss: 1.0910/0.4951\n",
            "Epoch: 015/100 | Batch 100/469 | Gen/Dis Loss: 1.2722/0.4342\n",
            "Epoch: 015/100 | Batch 200/469 | Gen/Dis Loss: 1.1186/0.5352\n",
            "Epoch: 015/100 | Batch 300/469 | Gen/Dis Loss: 1.1304/0.5485\n",
            "Epoch: 015/100 | Batch 400/469 | Gen/Dis Loss: 0.9099/0.5590\n",
            "Time elapsed: 2.24 min\n",
            "Epoch: 016/100 | Batch 000/469 | Gen/Dis Loss: 0.9589/0.5530\n",
            "Epoch: 016/100 | Batch 100/469 | Gen/Dis Loss: 1.0015/0.5738\n",
            "Epoch: 016/100 | Batch 200/469 | Gen/Dis Loss: 1.2764/0.5023\n",
            "Epoch: 016/100 | Batch 300/469 | Gen/Dis Loss: 1.1026/0.5819\n",
            "Epoch: 016/100 | Batch 400/469 | Gen/Dis Loss: 0.9339/0.5583\n",
            "Time elapsed: 2.38 min\n",
            "Epoch: 017/100 | Batch 000/469 | Gen/Dis Loss: 1.1275/0.5637\n",
            "Epoch: 017/100 | Batch 100/469 | Gen/Dis Loss: 0.9989/0.5467\n",
            "Epoch: 017/100 | Batch 200/469 | Gen/Dis Loss: 1.1592/0.5857\n",
            "Epoch: 017/100 | Batch 300/469 | Gen/Dis Loss: 1.1705/0.5160\n",
            "Epoch: 017/100 | Batch 400/469 | Gen/Dis Loss: 1.1030/0.5418\n",
            "Time elapsed: 2.52 min\n",
            "Epoch: 018/100 | Batch 000/469 | Gen/Dis Loss: 0.9256/0.5544\n",
            "Epoch: 018/100 | Batch 100/469 | Gen/Dis Loss: 0.9704/0.5679\n",
            "Epoch: 018/100 | Batch 200/469 | Gen/Dis Loss: 1.3640/0.4874\n",
            "Epoch: 018/100 | Batch 300/469 | Gen/Dis Loss: 0.8083/0.6009\n",
            "Epoch: 018/100 | Batch 400/469 | Gen/Dis Loss: 1.4207/0.4939\n",
            "Time elapsed: 2.66 min\n",
            "Epoch: 019/100 | Batch 000/469 | Gen/Dis Loss: 1.3643/0.4514\n",
            "Epoch: 019/100 | Batch 100/469 | Gen/Dis Loss: 1.3891/0.5630\n",
            "Epoch: 019/100 | Batch 200/469 | Gen/Dis Loss: 1.1123/0.5451\n",
            "Epoch: 019/100 | Batch 300/469 | Gen/Dis Loss: 0.9280/0.6454\n",
            "Epoch: 019/100 | Batch 400/469 | Gen/Dis Loss: 0.9568/0.5919\n",
            "Time elapsed: 2.80 min\n",
            "Epoch: 020/100 | Batch 000/469 | Gen/Dis Loss: 0.8388/0.5765\n",
            "Epoch: 020/100 | Batch 100/469 | Gen/Dis Loss: 1.2783/0.5585\n",
            "Epoch: 020/100 | Batch 200/469 | Gen/Dis Loss: 1.3636/0.5115\n",
            "Epoch: 020/100 | Batch 300/469 | Gen/Dis Loss: 1.1822/0.5361\n",
            "Epoch: 020/100 | Batch 400/469 | Gen/Dis Loss: 1.4005/0.5012\n",
            "Time elapsed: 2.95 min\n",
            "Epoch: 021/100 | Batch 000/469 | Gen/Dis Loss: 1.2654/0.5504\n",
            "Epoch: 021/100 | Batch 100/469 | Gen/Dis Loss: 0.9426/0.5624\n",
            "Epoch: 021/100 | Batch 200/469 | Gen/Dis Loss: 0.8536/0.5478\n",
            "Epoch: 021/100 | Batch 300/469 | Gen/Dis Loss: 1.3998/0.6143\n",
            "Epoch: 021/100 | Batch 400/469 | Gen/Dis Loss: 1.2188/0.5583\n",
            "Time elapsed: 3.09 min\n",
            "Epoch: 022/100 | Batch 000/469 | Gen/Dis Loss: 1.0439/0.5745\n",
            "Epoch: 022/100 | Batch 100/469 | Gen/Dis Loss: 0.8717/0.5911\n",
            "Epoch: 022/100 | Batch 200/469 | Gen/Dis Loss: 1.1139/0.5170\n",
            "Epoch: 022/100 | Batch 300/469 | Gen/Dis Loss: 1.1052/0.5717\n",
            "Epoch: 022/100 | Batch 400/469 | Gen/Dis Loss: 0.8945/0.5501\n",
            "Time elapsed: 3.23 min\n",
            "Epoch: 023/100 | Batch 000/469 | Gen/Dis Loss: 1.4024/0.5239\n",
            "Epoch: 023/100 | Batch 100/469 | Gen/Dis Loss: 0.9912/0.5573\n",
            "Epoch: 023/100 | Batch 200/469 | Gen/Dis Loss: 1.1363/0.5649\n",
            "Epoch: 023/100 | Batch 300/469 | Gen/Dis Loss: 1.0311/0.5349\n",
            "Epoch: 023/100 | Batch 400/469 | Gen/Dis Loss: 0.9225/0.5751\n",
            "Time elapsed: 3.37 min\n",
            "Epoch: 024/100 | Batch 000/469 | Gen/Dis Loss: 0.9138/0.5691\n",
            "Epoch: 024/100 | Batch 100/469 | Gen/Dis Loss: 1.1641/0.5510\n",
            "Epoch: 024/100 | Batch 200/469 | Gen/Dis Loss: 1.0951/0.5101\n",
            "Epoch: 024/100 | Batch 300/469 | Gen/Dis Loss: 1.5103/0.5387\n",
            "Epoch: 024/100 | Batch 400/469 | Gen/Dis Loss: 1.4671/0.5059\n",
            "Time elapsed: 3.51 min\n",
            "Epoch: 025/100 | Batch 000/469 | Gen/Dis Loss: 1.7115/0.5479\n",
            "Epoch: 025/100 | Batch 100/469 | Gen/Dis Loss: 0.9232/0.5913\n",
            "Epoch: 025/100 | Batch 200/469 | Gen/Dis Loss: 1.3797/0.5963\n",
            "Epoch: 025/100 | Batch 300/469 | Gen/Dis Loss: 0.9603/0.5994\n",
            "Epoch: 025/100 | Batch 400/469 | Gen/Dis Loss: 1.0338/0.6138\n",
            "Time elapsed: 3.65 min\n",
            "Epoch: 026/100 | Batch 000/469 | Gen/Dis Loss: 0.8951/0.5917\n",
            "Epoch: 026/100 | Batch 100/469 | Gen/Dis Loss: 1.0247/0.5657\n",
            "Epoch: 026/100 | Batch 200/469 | Gen/Dis Loss: 0.8929/0.5823\n",
            "Epoch: 026/100 | Batch 300/469 | Gen/Dis Loss: 1.0657/0.5426\n",
            "Epoch: 026/100 | Batch 400/469 | Gen/Dis Loss: 1.2468/0.5465\n",
            "Time elapsed: 3.79 min\n",
            "Epoch: 027/100 | Batch 000/469 | Gen/Dis Loss: 1.2141/0.5298\n",
            "Epoch: 027/100 | Batch 100/469 | Gen/Dis Loss: 0.9021/0.5926\n",
            "Epoch: 027/100 | Batch 200/469 | Gen/Dis Loss: 1.2581/0.5591\n",
            "Epoch: 027/100 | Batch 300/469 | Gen/Dis Loss: 0.8264/0.6290\n",
            "Epoch: 027/100 | Batch 400/469 | Gen/Dis Loss: 1.1340/0.5143\n",
            "Time elapsed: 3.93 min\n",
            "Epoch: 028/100 | Batch 000/469 | Gen/Dis Loss: 0.8005/0.6136\n",
            "Epoch: 028/100 | Batch 100/469 | Gen/Dis Loss: 1.2773/0.5332\n",
            "Epoch: 028/100 | Batch 200/469 | Gen/Dis Loss: 0.8488/0.5811\n",
            "Epoch: 028/100 | Batch 300/469 | Gen/Dis Loss: 1.0103/0.6016\n",
            "Epoch: 028/100 | Batch 400/469 | Gen/Dis Loss: 1.0699/0.5623\n",
            "Time elapsed: 4.07 min\n",
            "Epoch: 029/100 | Batch 000/469 | Gen/Dis Loss: 1.2326/0.5427\n",
            "Epoch: 029/100 | Batch 100/469 | Gen/Dis Loss: 0.8415/0.5780\n",
            "Epoch: 029/100 | Batch 200/469 | Gen/Dis Loss: 1.0920/0.6235\n",
            "Epoch: 029/100 | Batch 300/469 | Gen/Dis Loss: 1.1932/0.6215\n",
            "Epoch: 029/100 | Batch 400/469 | Gen/Dis Loss: 0.8857/0.5885\n",
            "Time elapsed: 4.20 min\n",
            "Epoch: 030/100 | Batch 000/469 | Gen/Dis Loss: 0.8616/0.6106\n",
            "Epoch: 030/100 | Batch 100/469 | Gen/Dis Loss: 0.9682/0.5982\n",
            "Epoch: 030/100 | Batch 200/469 | Gen/Dis Loss: 0.8832/0.5661\n",
            "Epoch: 030/100 | Batch 300/469 | Gen/Dis Loss: 0.8569/0.5937\n",
            "Epoch: 030/100 | Batch 400/469 | Gen/Dis Loss: 0.9683/0.5908\n",
            "Time elapsed: 4.35 min\n",
            "Epoch: 031/100 | Batch 000/469 | Gen/Dis Loss: 0.9629/0.5667\n",
            "Epoch: 031/100 | Batch 100/469 | Gen/Dis Loss: 0.8670/0.6028\n",
            "Epoch: 031/100 | Batch 200/469 | Gen/Dis Loss: 1.0878/0.6064\n",
            "Epoch: 031/100 | Batch 300/469 | Gen/Dis Loss: 0.8436/0.6272\n",
            "Epoch: 031/100 | Batch 400/469 | Gen/Dis Loss: 1.0542/0.6560\n",
            "Time elapsed: 4.49 min\n",
            "Epoch: 032/100 | Batch 000/469 | Gen/Dis Loss: 0.9246/0.5915\n",
            "Epoch: 032/100 | Batch 100/469 | Gen/Dis Loss: 0.9307/0.5887\n",
            "Epoch: 032/100 | Batch 200/469 | Gen/Dis Loss: 0.8078/0.6560\n",
            "Epoch: 032/100 | Batch 300/469 | Gen/Dis Loss: 0.8951/0.6558\n",
            "Epoch: 032/100 | Batch 400/469 | Gen/Dis Loss: 0.8137/0.6141\n",
            "Time elapsed: 4.64 min\n",
            "Epoch: 033/100 | Batch 000/469 | Gen/Dis Loss: 0.8300/0.6282\n",
            "Epoch: 033/100 | Batch 100/469 | Gen/Dis Loss: 0.8935/0.6124\n",
            "Epoch: 033/100 | Batch 200/469 | Gen/Dis Loss: 0.8515/0.5856\n",
            "Epoch: 033/100 | Batch 300/469 | Gen/Dis Loss: 0.8868/0.6085\n",
            "Epoch: 033/100 | Batch 400/469 | Gen/Dis Loss: 0.8711/0.6420\n",
            "Time elapsed: 4.78 min\n",
            "Epoch: 034/100 | Batch 000/469 | Gen/Dis Loss: 1.0505/0.5990\n",
            "Epoch: 034/100 | Batch 100/469 | Gen/Dis Loss: 1.0235/0.6005\n",
            "Epoch: 034/100 | Batch 200/469 | Gen/Dis Loss: 0.9981/0.6212\n",
            "Epoch: 034/100 | Batch 300/469 | Gen/Dis Loss: 0.8544/0.6392\n",
            "Epoch: 034/100 | Batch 400/469 | Gen/Dis Loss: 0.9151/0.6082\n",
            "Time elapsed: 4.92 min\n",
            "Epoch: 035/100 | Batch 000/469 | Gen/Dis Loss: 0.7776/0.6326\n",
            "Epoch: 035/100 | Batch 100/469 | Gen/Dis Loss: 1.0038/0.5905\n",
            "Epoch: 035/100 | Batch 200/469 | Gen/Dis Loss: 0.9117/0.6052\n",
            "Epoch: 035/100 | Batch 300/469 | Gen/Dis Loss: 0.7136/0.6547\n",
            "Epoch: 035/100 | Batch 400/469 | Gen/Dis Loss: 0.8437/0.6148\n",
            "Time elapsed: 5.06 min\n",
            "Epoch: 036/100 | Batch 000/469 | Gen/Dis Loss: 1.0047/0.5987\n",
            "Epoch: 036/100 | Batch 100/469 | Gen/Dis Loss: 1.0950/0.6187\n",
            "Epoch: 036/100 | Batch 200/469 | Gen/Dis Loss: 0.7449/0.6565\n",
            "Epoch: 036/100 | Batch 300/469 | Gen/Dis Loss: 0.9246/0.6326\n",
            "Epoch: 036/100 | Batch 400/469 | Gen/Dis Loss: 0.9698/0.5894\n",
            "Time elapsed: 5.20 min\n",
            "Epoch: 037/100 | Batch 000/469 | Gen/Dis Loss: 0.7820/0.6198\n",
            "Epoch: 037/100 | Batch 100/469 | Gen/Dis Loss: 0.8330/0.5905\n",
            "Epoch: 037/100 | Batch 200/469 | Gen/Dis Loss: 1.1772/0.5751\n",
            "Epoch: 037/100 | Batch 300/469 | Gen/Dis Loss: 0.9346/0.6008\n",
            "Epoch: 037/100 | Batch 400/469 | Gen/Dis Loss: 0.8917/0.6013\n",
            "Time elapsed: 5.34 min\n",
            "Epoch: 038/100 | Batch 000/469 | Gen/Dis Loss: 1.0911/0.6192\n",
            "Epoch: 038/100 | Batch 100/469 | Gen/Dis Loss: 0.8785/0.6539\n",
            "Epoch: 038/100 | Batch 200/469 | Gen/Dis Loss: 0.9294/0.6129\n",
            "Epoch: 038/100 | Batch 300/469 | Gen/Dis Loss: 0.8747/0.6023\n",
            "Epoch: 038/100 | Batch 400/469 | Gen/Dis Loss: 0.8566/0.6382\n",
            "Time elapsed: 5.48 min\n",
            "Epoch: 039/100 | Batch 000/469 | Gen/Dis Loss: 0.8497/0.6657\n",
            "Epoch: 039/100 | Batch 100/469 | Gen/Dis Loss: 0.7863/0.6466\n",
            "Epoch: 039/100 | Batch 200/469 | Gen/Dis Loss: 1.4007/0.5755\n",
            "Epoch: 039/100 | Batch 300/469 | Gen/Dis Loss: 0.8765/0.6475\n",
            "Epoch: 039/100 | Batch 400/469 | Gen/Dis Loss: 0.9683/0.6392\n",
            "Time elapsed: 5.62 min\n",
            "Epoch: 040/100 | Batch 000/469 | Gen/Dis Loss: 0.8674/0.6323\n",
            "Epoch: 040/100 | Batch 100/469 | Gen/Dis Loss: 0.8337/0.6203\n",
            "Epoch: 040/100 | Batch 200/469 | Gen/Dis Loss: 0.8598/0.6417\n",
            "Epoch: 040/100 | Batch 300/469 | Gen/Dis Loss: 0.8356/0.6356\n",
            "Epoch: 040/100 | Batch 400/469 | Gen/Dis Loss: 0.7579/0.6032\n",
            "Time elapsed: 5.77 min\n",
            "Epoch: 041/100 | Batch 000/469 | Gen/Dis Loss: 0.7823/0.6542\n",
            "Epoch: 041/100 | Batch 100/469 | Gen/Dis Loss: 0.6876/0.6474\n",
            "Epoch: 041/100 | Batch 200/469 | Gen/Dis Loss: 0.7947/0.6144\n",
            "Epoch: 041/100 | Batch 300/469 | Gen/Dis Loss: 0.8155/0.6352\n",
            "Epoch: 041/100 | Batch 400/469 | Gen/Dis Loss: 0.8780/0.6438\n",
            "Time elapsed: 5.91 min\n",
            "Epoch: 042/100 | Batch 000/469 | Gen/Dis Loss: 0.8267/0.6397\n",
            "Epoch: 042/100 | Batch 100/469 | Gen/Dis Loss: 0.9537/0.6400\n",
            "Epoch: 042/100 | Batch 200/469 | Gen/Dis Loss: 0.9329/0.6239\n",
            "Epoch: 042/100 | Batch 300/469 | Gen/Dis Loss: 0.9256/0.6385\n",
            "Epoch: 042/100 | Batch 400/469 | Gen/Dis Loss: 0.9091/0.6469\n",
            "Time elapsed: 6.06 min\n",
            "Epoch: 043/100 | Batch 000/469 | Gen/Dis Loss: 0.9424/0.6632\n",
            "Epoch: 043/100 | Batch 100/469 | Gen/Dis Loss: 0.9470/0.5903\n",
            "Epoch: 043/100 | Batch 200/469 | Gen/Dis Loss: 0.9986/0.6473\n",
            "Epoch: 043/100 | Batch 300/469 | Gen/Dis Loss: 0.9400/0.6203\n",
            "Epoch: 043/100 | Batch 400/469 | Gen/Dis Loss: 0.8226/0.6313\n",
            "Time elapsed: 6.19 min\n",
            "Epoch: 044/100 | Batch 000/469 | Gen/Dis Loss: 0.7449/0.6676\n",
            "Epoch: 044/100 | Batch 100/469 | Gen/Dis Loss: 1.0889/0.6000\n",
            "Epoch: 044/100 | Batch 200/469 | Gen/Dis Loss: 0.8012/0.6302\n",
            "Epoch: 044/100 | Batch 300/469 | Gen/Dis Loss: 1.0268/0.6361\n",
            "Epoch: 044/100 | Batch 400/469 | Gen/Dis Loss: 0.8463/0.6390\n",
            "Time elapsed: 6.34 min\n",
            "Epoch: 045/100 | Batch 000/469 | Gen/Dis Loss: 1.0664/0.6113\n",
            "Epoch: 045/100 | Batch 100/469 | Gen/Dis Loss: 1.2531/0.5688\n",
            "Epoch: 045/100 | Batch 200/469 | Gen/Dis Loss: 1.3025/0.6125\n",
            "Epoch: 045/100 | Batch 300/469 | Gen/Dis Loss: 0.9285/0.6575\n",
            "Epoch: 045/100 | Batch 400/469 | Gen/Dis Loss: 0.7854/0.6274\n",
            "Time elapsed: 6.48 min\n",
            "Epoch: 046/100 | Batch 000/469 | Gen/Dis Loss: 0.9998/0.6469\n",
            "Epoch: 046/100 | Batch 100/469 | Gen/Dis Loss: 0.9722/0.6142\n",
            "Epoch: 046/100 | Batch 200/469 | Gen/Dis Loss: 1.2945/0.5954\n",
            "Epoch: 046/100 | Batch 300/469 | Gen/Dis Loss: 1.0644/0.6389\n",
            "Epoch: 046/100 | Batch 400/469 | Gen/Dis Loss: 0.7856/0.6731\n",
            "Time elapsed: 6.62 min\n",
            "Epoch: 047/100 | Batch 000/469 | Gen/Dis Loss: 0.9011/0.5981\n",
            "Epoch: 047/100 | Batch 100/469 | Gen/Dis Loss: 0.8270/0.6043\n",
            "Epoch: 047/100 | Batch 200/469 | Gen/Dis Loss: 0.9222/0.6331\n",
            "Epoch: 047/100 | Batch 300/469 | Gen/Dis Loss: 0.8394/0.6162\n",
            "Epoch: 047/100 | Batch 400/469 | Gen/Dis Loss: 0.9763/0.6405\n",
            "Time elapsed: 6.76 min\n",
            "Epoch: 048/100 | Batch 000/469 | Gen/Dis Loss: 0.9971/0.6352\n",
            "Epoch: 048/100 | Batch 100/469 | Gen/Dis Loss: 0.7921/0.6279\n",
            "Epoch: 048/100 | Batch 200/469 | Gen/Dis Loss: 0.8791/0.6122\n",
            "Epoch: 048/100 | Batch 300/469 | Gen/Dis Loss: 0.9222/0.6090\n",
            "Epoch: 048/100 | Batch 400/469 | Gen/Dis Loss: 0.8009/0.6842\n",
            "Time elapsed: 6.91 min\n",
            "Epoch: 049/100 | Batch 000/469 | Gen/Dis Loss: 0.9106/0.6193\n",
            "Epoch: 049/100 | Batch 100/469 | Gen/Dis Loss: 0.8359/0.6576\n",
            "Epoch: 049/100 | Batch 200/469 | Gen/Dis Loss: 0.8280/0.6435\n",
            "Epoch: 049/100 | Batch 300/469 | Gen/Dis Loss: 0.9250/0.6358\n",
            "Epoch: 049/100 | Batch 400/469 | Gen/Dis Loss: 1.1572/0.6594\n",
            "Time elapsed: 7.05 min\n",
            "Epoch: 050/100 | Batch 000/469 | Gen/Dis Loss: 0.7775/0.6531\n",
            "Epoch: 050/100 | Batch 100/469 | Gen/Dis Loss: 0.8848/0.6275\n",
            "Epoch: 050/100 | Batch 200/469 | Gen/Dis Loss: 0.8959/0.6647\n",
            "Epoch: 050/100 | Batch 300/469 | Gen/Dis Loss: 0.7918/0.6320\n",
            "Epoch: 050/100 | Batch 400/469 | Gen/Dis Loss: 0.8877/0.6677\n",
            "Time elapsed: 7.18 min\n",
            "Epoch: 051/100 | Batch 000/469 | Gen/Dis Loss: 1.0456/0.6280\n",
            "Epoch: 051/100 | Batch 100/469 | Gen/Dis Loss: 0.8292/0.6528\n",
            "Epoch: 051/100 | Batch 200/469 | Gen/Dis Loss: 0.8064/0.6154\n",
            "Epoch: 051/100 | Batch 300/469 | Gen/Dis Loss: 0.8486/0.6385\n",
            "Epoch: 051/100 | Batch 400/469 | Gen/Dis Loss: 0.9342/0.6122\n",
            "Time elapsed: 7.33 min\n",
            "Epoch: 052/100 | Batch 000/469 | Gen/Dis Loss: 0.8482/0.6260\n",
            "Epoch: 052/100 | Batch 100/469 | Gen/Dis Loss: 0.8117/0.6382\n",
            "Epoch: 052/100 | Batch 200/469 | Gen/Dis Loss: 0.8202/0.6558\n",
            "Epoch: 052/100 | Batch 300/469 | Gen/Dis Loss: 0.8740/0.6488\n",
            "Epoch: 052/100 | Batch 400/469 | Gen/Dis Loss: 0.9202/0.5909\n",
            "Time elapsed: 7.47 min\n",
            "Epoch: 053/100 | Batch 000/469 | Gen/Dis Loss: 0.7433/0.6510\n",
            "Epoch: 053/100 | Batch 100/469 | Gen/Dis Loss: 0.8668/0.6414\n",
            "Epoch: 053/100 | Batch 200/469 | Gen/Dis Loss: 1.3672/0.6176\n",
            "Epoch: 053/100 | Batch 300/469 | Gen/Dis Loss: 0.8893/0.6519\n",
            "Epoch: 053/100 | Batch 400/469 | Gen/Dis Loss: 0.8256/0.6561\n",
            "Time elapsed: 7.61 min\n",
            "Epoch: 054/100 | Batch 000/469 | Gen/Dis Loss: 0.8465/0.6306\n",
            "Epoch: 054/100 | Batch 100/469 | Gen/Dis Loss: 0.7669/0.6447\n",
            "Epoch: 054/100 | Batch 200/469 | Gen/Dis Loss: 0.9906/0.6309\n",
            "Epoch: 054/100 | Batch 300/469 | Gen/Dis Loss: 0.9096/0.6205\n",
            "Epoch: 054/100 | Batch 400/469 | Gen/Dis Loss: 0.8757/0.6197\n",
            "Time elapsed: 7.75 min\n",
            "Epoch: 055/100 | Batch 000/469 | Gen/Dis Loss: 1.0806/0.5879\n",
            "Epoch: 055/100 | Batch 100/469 | Gen/Dis Loss: 0.8609/0.6739\n",
            "Epoch: 055/100 | Batch 200/469 | Gen/Dis Loss: 0.7050/0.6539\n",
            "Epoch: 055/100 | Batch 300/469 | Gen/Dis Loss: 0.9330/0.6231\n",
            "Epoch: 055/100 | Batch 400/469 | Gen/Dis Loss: 0.8405/0.6352\n",
            "Time elapsed: 7.90 min\n",
            "Epoch: 056/100 | Batch 000/469 | Gen/Dis Loss: 0.9716/0.6540\n",
            "Epoch: 056/100 | Batch 100/469 | Gen/Dis Loss: 0.7421/0.6614\n",
            "Epoch: 056/100 | Batch 200/469 | Gen/Dis Loss: 0.8122/0.6257\n",
            "Epoch: 056/100 | Batch 300/469 | Gen/Dis Loss: 0.9019/0.6825\n",
            "Epoch: 056/100 | Batch 400/469 | Gen/Dis Loss: 0.8463/0.6447\n",
            "Time elapsed: 8.04 min\n",
            "Epoch: 057/100 | Batch 000/469 | Gen/Dis Loss: 0.8661/0.6541\n",
            "Epoch: 057/100 | Batch 100/469 | Gen/Dis Loss: 0.7808/0.6628\n",
            "Epoch: 057/100 | Batch 200/469 | Gen/Dis Loss: 0.7990/0.6561\n",
            "Epoch: 057/100 | Batch 300/469 | Gen/Dis Loss: 0.9234/0.6632\n",
            "Epoch: 057/100 | Batch 400/469 | Gen/Dis Loss: 0.7803/0.6593\n",
            "Time elapsed: 8.18 min\n",
            "Epoch: 058/100 | Batch 000/469 | Gen/Dis Loss: 0.8651/0.6348\n",
            "Epoch: 058/100 | Batch 100/469 | Gen/Dis Loss: 0.9562/0.6346\n",
            "Epoch: 058/100 | Batch 200/469 | Gen/Dis Loss: 0.9523/0.6466\n",
            "Epoch: 058/100 | Batch 300/469 | Gen/Dis Loss: 0.8122/0.6362\n",
            "Epoch: 058/100 | Batch 400/469 | Gen/Dis Loss: 0.8483/0.6416\n",
            "Time elapsed: 8.32 min\n",
            "Epoch: 059/100 | Batch 000/469 | Gen/Dis Loss: 1.0030/0.6274\n",
            "Epoch: 059/100 | Batch 100/469 | Gen/Dis Loss: 0.8205/0.6297\n",
            "Epoch: 059/100 | Batch 200/469 | Gen/Dis Loss: 0.7804/0.6194\n",
            "Epoch: 059/100 | Batch 300/469 | Gen/Dis Loss: 0.7472/0.6334\n",
            "Epoch: 059/100 | Batch 400/469 | Gen/Dis Loss: 0.7754/0.6190\n",
            "Time elapsed: 8.46 min\n",
            "Epoch: 060/100 | Batch 000/469 | Gen/Dis Loss: 0.7684/0.6571\n",
            "Epoch: 060/100 | Batch 100/469 | Gen/Dis Loss: 0.9628/0.6406\n",
            "Epoch: 060/100 | Batch 200/469 | Gen/Dis Loss: 0.6797/0.6649\n",
            "Epoch: 060/100 | Batch 300/469 | Gen/Dis Loss: 0.8086/0.6391\n",
            "Epoch: 060/100 | Batch 400/469 | Gen/Dis Loss: 0.8047/0.6515\n",
            "Time elapsed: 8.60 min\n",
            "Epoch: 061/100 | Batch 000/469 | Gen/Dis Loss: 0.9156/0.6237\n",
            "Epoch: 061/100 | Batch 100/469 | Gen/Dis Loss: 0.8655/0.6259\n",
            "Epoch: 061/100 | Batch 200/469 | Gen/Dis Loss: 0.9751/0.6162\n",
            "Epoch: 061/100 | Batch 300/469 | Gen/Dis Loss: 0.8952/0.6338\n",
            "Epoch: 061/100 | Batch 400/469 | Gen/Dis Loss: 1.1034/0.6642\n",
            "Time elapsed: 8.74 min\n",
            "Epoch: 062/100 | Batch 000/469 | Gen/Dis Loss: 0.8679/0.6363\n",
            "Epoch: 062/100 | Batch 100/469 | Gen/Dis Loss: 0.8371/0.6142\n",
            "Epoch: 062/100 | Batch 200/469 | Gen/Dis Loss: 1.0651/0.6304\n",
            "Epoch: 062/100 | Batch 300/469 | Gen/Dis Loss: 0.8085/0.6939\n",
            "Epoch: 062/100 | Batch 400/469 | Gen/Dis Loss: 0.9117/0.6171\n",
            "Time elapsed: 8.89 min\n",
            "Epoch: 063/100 | Batch 000/469 | Gen/Dis Loss: 0.9150/0.6459\n",
            "Epoch: 063/100 | Batch 100/469 | Gen/Dis Loss: 1.0683/0.6771\n",
            "Epoch: 063/100 | Batch 200/469 | Gen/Dis Loss: 0.8436/0.6032\n",
            "Epoch: 063/100 | Batch 300/469 | Gen/Dis Loss: 0.8590/0.6330\n",
            "Epoch: 063/100 | Batch 400/469 | Gen/Dis Loss: 0.8846/0.6218\n",
            "Time elapsed: 9.02 min\n",
            "Epoch: 064/100 | Batch 000/469 | Gen/Dis Loss: 0.8560/0.6272\n",
            "Epoch: 064/100 | Batch 100/469 | Gen/Dis Loss: 0.8401/0.6310\n",
            "Epoch: 064/100 | Batch 200/469 | Gen/Dis Loss: 0.7434/0.6630\n",
            "Epoch: 064/100 | Batch 300/469 | Gen/Dis Loss: 0.8723/0.6382\n",
            "Epoch: 064/100 | Batch 400/469 | Gen/Dis Loss: 0.8075/0.6228\n",
            "Time elapsed: 9.16 min\n",
            "Epoch: 065/100 | Batch 000/469 | Gen/Dis Loss: 0.7178/0.6667\n",
            "Epoch: 065/100 | Batch 100/469 | Gen/Dis Loss: 0.8366/0.6520\n",
            "Epoch: 065/100 | Batch 200/469 | Gen/Dis Loss: 0.9753/0.6145\n",
            "Epoch: 065/100 | Batch 300/469 | Gen/Dis Loss: 0.8338/0.6140\n",
            "Epoch: 065/100 | Batch 400/469 | Gen/Dis Loss: 0.8258/0.6402\n",
            "Time elapsed: 9.31 min\n",
            "Epoch: 066/100 | Batch 000/469 | Gen/Dis Loss: 0.8702/0.6463\n",
            "Epoch: 066/100 | Batch 100/469 | Gen/Dis Loss: 0.8914/0.6342\n",
            "Epoch: 066/100 | Batch 200/469 | Gen/Dis Loss: 1.0918/0.6549\n",
            "Epoch: 066/100 | Batch 300/469 | Gen/Dis Loss: 0.7568/0.6336\n",
            "Epoch: 066/100 | Batch 400/469 | Gen/Dis Loss: 0.8581/0.6459\n",
            "Time elapsed: 9.46 min\n",
            "Epoch: 067/100 | Batch 000/469 | Gen/Dis Loss: 0.9293/0.6090\n",
            "Epoch: 067/100 | Batch 100/469 | Gen/Dis Loss: 0.9238/0.6171\n",
            "Epoch: 067/100 | Batch 200/469 | Gen/Dis Loss: 1.0037/0.6123\n",
            "Epoch: 067/100 | Batch 300/469 | Gen/Dis Loss: 0.9062/0.6302\n",
            "Epoch: 067/100 | Batch 400/469 | Gen/Dis Loss: 0.8331/0.6460\n",
            "Time elapsed: 9.59 min\n",
            "Epoch: 068/100 | Batch 000/469 | Gen/Dis Loss: 0.8979/0.6695\n",
            "Epoch: 068/100 | Batch 100/469 | Gen/Dis Loss: 0.8246/0.6308\n",
            "Epoch: 068/100 | Batch 200/469 | Gen/Dis Loss: 0.8142/0.6213\n",
            "Epoch: 068/100 | Batch 300/469 | Gen/Dis Loss: 0.7930/0.6807\n",
            "Epoch: 068/100 | Batch 400/469 | Gen/Dis Loss: 0.9703/0.6286\n",
            "Time elapsed: 9.74 min\n",
            "Epoch: 069/100 | Batch 000/469 | Gen/Dis Loss: 1.0786/0.6795\n",
            "Epoch: 069/100 | Batch 100/469 | Gen/Dis Loss: 0.8499/0.6191\n",
            "Epoch: 069/100 | Batch 200/469 | Gen/Dis Loss: 0.8063/0.6000\n",
            "Epoch: 069/100 | Batch 300/469 | Gen/Dis Loss: 0.8627/0.6538\n",
            "Epoch: 069/100 | Batch 400/469 | Gen/Dis Loss: 0.7969/0.6518\n",
            "Time elapsed: 9.88 min\n",
            "Epoch: 070/100 | Batch 000/469 | Gen/Dis Loss: 0.8590/0.6413\n",
            "Epoch: 070/100 | Batch 100/469 | Gen/Dis Loss: 0.7777/0.6401\n",
            "Epoch: 070/100 | Batch 200/469 | Gen/Dis Loss: 1.0995/0.6168\n",
            "Epoch: 070/100 | Batch 300/469 | Gen/Dis Loss: 0.7236/0.6387\n",
            "Epoch: 070/100 | Batch 400/469 | Gen/Dis Loss: 0.8068/0.6627\n",
            "Time elapsed: 10.02 min\n",
            "Epoch: 071/100 | Batch 000/469 | Gen/Dis Loss: 0.8563/0.6341\n",
            "Epoch: 071/100 | Batch 100/469 | Gen/Dis Loss: 0.7944/0.6545\n",
            "Epoch: 071/100 | Batch 200/469 | Gen/Dis Loss: 0.8335/0.6389\n",
            "Epoch: 071/100 | Batch 300/469 | Gen/Dis Loss: 0.8288/0.6702\n",
            "Epoch: 071/100 | Batch 400/469 | Gen/Dis Loss: 1.0310/0.6377\n",
            "Time elapsed: 10.16 min\n",
            "Epoch: 072/100 | Batch 000/469 | Gen/Dis Loss: 0.8952/0.6404\n",
            "Epoch: 072/100 | Batch 100/469 | Gen/Dis Loss: 0.7270/0.6599\n",
            "Epoch: 072/100 | Batch 200/469 | Gen/Dis Loss: 0.8842/0.6422\n",
            "Epoch: 072/100 | Batch 300/469 | Gen/Dis Loss: 0.9189/0.6547\n",
            "Epoch: 072/100 | Batch 400/469 | Gen/Dis Loss: 0.8120/0.6670\n",
            "Time elapsed: 10.30 min\n",
            "Epoch: 073/100 | Batch 000/469 | Gen/Dis Loss: 0.8803/0.6345\n",
            "Epoch: 073/100 | Batch 100/469 | Gen/Dis Loss: 0.7946/0.6442\n",
            "Epoch: 073/100 | Batch 200/469 | Gen/Dis Loss: 1.0431/0.6154\n",
            "Epoch: 073/100 | Batch 300/469 | Gen/Dis Loss: 0.8597/0.6389\n",
            "Epoch: 073/100 | Batch 400/469 | Gen/Dis Loss: 0.8575/0.6304\n",
            "Time elapsed: 10.44 min\n",
            "Epoch: 074/100 | Batch 000/469 | Gen/Dis Loss: 1.1217/0.6366\n",
            "Epoch: 074/100 | Batch 100/469 | Gen/Dis Loss: 0.7369/0.6230\n",
            "Epoch: 074/100 | Batch 200/469 | Gen/Dis Loss: 0.8834/0.6384\n",
            "Epoch: 074/100 | Batch 300/469 | Gen/Dis Loss: 0.7945/0.6700\n",
            "Epoch: 074/100 | Batch 400/469 | Gen/Dis Loss: 0.8081/0.6265\n",
            "Time elapsed: 10.58 min\n",
            "Epoch: 075/100 | Batch 000/469 | Gen/Dis Loss: 0.7586/0.6331\n",
            "Epoch: 075/100 | Batch 100/469 | Gen/Dis Loss: 0.7902/0.6716\n",
            "Epoch: 075/100 | Batch 200/469 | Gen/Dis Loss: 0.8496/0.6402\n",
            "Epoch: 075/100 | Batch 300/469 | Gen/Dis Loss: 0.8673/0.6686\n",
            "Epoch: 075/100 | Batch 400/469 | Gen/Dis Loss: 0.8157/0.6310\n",
            "Time elapsed: 10.73 min\n",
            "Epoch: 076/100 | Batch 000/469 | Gen/Dis Loss: 0.8659/0.6026\n",
            "Epoch: 076/100 | Batch 100/469 | Gen/Dis Loss: 0.7733/0.6748\n",
            "Epoch: 076/100 | Batch 200/469 | Gen/Dis Loss: 0.8771/0.6198\n",
            "Epoch: 076/100 | Batch 300/469 | Gen/Dis Loss: 0.8578/0.6046\n",
            "Epoch: 076/100 | Batch 400/469 | Gen/Dis Loss: 0.7651/0.6491\n",
            "Time elapsed: 10.87 min\n",
            "Epoch: 077/100 | Batch 000/469 | Gen/Dis Loss: 0.8603/0.6393\n",
            "Epoch: 077/100 | Batch 100/469 | Gen/Dis Loss: 0.8348/0.6471\n",
            "Epoch: 077/100 | Batch 200/469 | Gen/Dis Loss: 0.6757/0.6813\n",
            "Epoch: 077/100 | Batch 300/469 | Gen/Dis Loss: 0.8247/0.6394\n",
            "Epoch: 077/100 | Batch 400/469 | Gen/Dis Loss: 0.7763/0.6474\n",
            "Time elapsed: 11.00 min\n",
            "Epoch: 078/100 | Batch 000/469 | Gen/Dis Loss: 0.8743/0.6263\n",
            "Epoch: 078/100 | Batch 100/469 | Gen/Dis Loss: 0.8844/0.6210\n",
            "Epoch: 078/100 | Batch 200/469 | Gen/Dis Loss: 0.9162/0.6362\n",
            "Epoch: 078/100 | Batch 300/469 | Gen/Dis Loss: 0.9362/0.6324\n",
            "Epoch: 078/100 | Batch 400/469 | Gen/Dis Loss: 0.9349/0.6219\n",
            "Time elapsed: 11.15 min\n",
            "Epoch: 079/100 | Batch 000/469 | Gen/Dis Loss: 0.8621/0.6281\n",
            "Epoch: 079/100 | Batch 100/469 | Gen/Dis Loss: 0.7478/0.6336\n",
            "Epoch: 079/100 | Batch 200/469 | Gen/Dis Loss: 0.7983/0.6473\n",
            "Epoch: 079/100 | Batch 300/469 | Gen/Dis Loss: 0.8117/0.6256\n",
            "Epoch: 079/100 | Batch 400/469 | Gen/Dis Loss: 0.7815/0.6337\n",
            "Time elapsed: 11.29 min\n",
            "Epoch: 080/100 | Batch 000/469 | Gen/Dis Loss: 0.9585/0.6225\n",
            "Epoch: 080/100 | Batch 100/469 | Gen/Dis Loss: 0.8222/0.6038\n",
            "Epoch: 080/100 | Batch 200/469 | Gen/Dis Loss: 0.7693/0.6259\n",
            "Epoch: 080/100 | Batch 300/469 | Gen/Dis Loss: 0.8288/0.6628\n",
            "Epoch: 080/100 | Batch 400/469 | Gen/Dis Loss: 0.8431/0.6474\n",
            "Time elapsed: 11.42 min\n",
            "Epoch: 081/100 | Batch 000/469 | Gen/Dis Loss: 0.7621/0.6483\n",
            "Epoch: 081/100 | Batch 100/469 | Gen/Dis Loss: 0.8004/0.6654\n",
            "Epoch: 081/100 | Batch 200/469 | Gen/Dis Loss: 0.8807/0.6539\n",
            "Epoch: 081/100 | Batch 300/469 | Gen/Dis Loss: 0.7751/0.6409\n",
            "Epoch: 081/100 | Batch 400/469 | Gen/Dis Loss: 0.8199/0.6494\n",
            "Time elapsed: 11.57 min\n",
            "Epoch: 082/100 | Batch 000/469 | Gen/Dis Loss: 0.7956/0.6456\n",
            "Epoch: 082/100 | Batch 100/469 | Gen/Dis Loss: 0.9706/0.6296\n",
            "Epoch: 082/100 | Batch 200/469 | Gen/Dis Loss: 0.8881/0.6563\n",
            "Epoch: 082/100 | Batch 300/469 | Gen/Dis Loss: 0.8368/0.6288\n",
            "Epoch: 082/100 | Batch 400/469 | Gen/Dis Loss: 0.9829/0.6680\n",
            "Time elapsed: 11.71 min\n",
            "Epoch: 083/100 | Batch 000/469 | Gen/Dis Loss: 0.9625/0.6451\n",
            "Epoch: 083/100 | Batch 100/469 | Gen/Dis Loss: 0.8017/0.6301\n",
            "Epoch: 083/100 | Batch 200/469 | Gen/Dis Loss: 0.8707/0.6242\n",
            "Epoch: 083/100 | Batch 300/469 | Gen/Dis Loss: 0.8532/0.6248\n",
            "Epoch: 083/100 | Batch 400/469 | Gen/Dis Loss: 0.8639/0.6398\n",
            "Time elapsed: 11.85 min\n",
            "Epoch: 084/100 | Batch 000/469 | Gen/Dis Loss: 0.9592/0.6580\n",
            "Epoch: 084/100 | Batch 100/469 | Gen/Dis Loss: 0.8893/0.6570\n",
            "Epoch: 084/100 | Batch 200/469 | Gen/Dis Loss: 0.9323/0.6268\n",
            "Epoch: 084/100 | Batch 300/469 | Gen/Dis Loss: 0.9296/0.6474\n",
            "Epoch: 084/100 | Batch 400/469 | Gen/Dis Loss: 0.8668/0.6634\n",
            "Time elapsed: 11.99 min\n",
            "Epoch: 085/100 | Batch 000/469 | Gen/Dis Loss: 0.8710/0.6158\n",
            "Epoch: 085/100 | Batch 100/469 | Gen/Dis Loss: 1.0660/0.6500\n",
            "Epoch: 085/100 | Batch 200/469 | Gen/Dis Loss: 0.7085/0.6365\n",
            "Epoch: 085/100 | Batch 300/469 | Gen/Dis Loss: 0.8675/0.6476\n",
            "Epoch: 085/100 | Batch 400/469 | Gen/Dis Loss: 0.8062/0.6354\n",
            "Time elapsed: 12.13 min\n",
            "Epoch: 086/100 | Batch 000/469 | Gen/Dis Loss: 0.8392/0.6525\n",
            "Epoch: 086/100 | Batch 100/469 | Gen/Dis Loss: 0.8636/0.7124\n",
            "Epoch: 086/100 | Batch 200/469 | Gen/Dis Loss: 0.8695/0.6113\n",
            "Epoch: 086/100 | Batch 300/469 | Gen/Dis Loss: 0.8356/0.6375\n",
            "Epoch: 086/100 | Batch 400/469 | Gen/Dis Loss: 0.8349/0.6595\n",
            "Time elapsed: 12.28 min\n",
            "Epoch: 087/100 | Batch 000/469 | Gen/Dis Loss: 0.8624/0.6264\n",
            "Epoch: 087/100 | Batch 100/469 | Gen/Dis Loss: 0.8910/0.6165\n",
            "Epoch: 087/100 | Batch 200/469 | Gen/Dis Loss: 0.8331/0.6315\n",
            "Epoch: 087/100 | Batch 300/469 | Gen/Dis Loss: 0.8763/0.6334\n",
            "Epoch: 087/100 | Batch 400/469 | Gen/Dis Loss: 0.8423/0.6492\n",
            "Time elapsed: 12.41 min\n",
            "Epoch: 088/100 | Batch 000/469 | Gen/Dis Loss: 0.8713/0.6198\n",
            "Epoch: 088/100 | Batch 100/469 | Gen/Dis Loss: 0.7596/0.6375\n",
            "Epoch: 088/100 | Batch 200/469 | Gen/Dis Loss: 1.0918/0.6182\n",
            "Epoch: 088/100 | Batch 300/469 | Gen/Dis Loss: 0.9372/0.6406\n",
            "Epoch: 088/100 | Batch 400/469 | Gen/Dis Loss: 0.9122/0.6183\n",
            "Time elapsed: 12.55 min\n",
            "Epoch: 089/100 | Batch 000/469 | Gen/Dis Loss: 0.8027/0.6871\n",
            "Epoch: 089/100 | Batch 100/469 | Gen/Dis Loss: 0.7700/0.6803\n",
            "Epoch: 089/100 | Batch 200/469 | Gen/Dis Loss: 0.8935/0.6296\n",
            "Epoch: 089/100 | Batch 300/469 | Gen/Dis Loss: 0.7956/0.6482\n",
            "Epoch: 089/100 | Batch 400/469 | Gen/Dis Loss: 0.8092/0.6490\n",
            "Time elapsed: 12.70 min\n",
            "Epoch: 090/100 | Batch 000/469 | Gen/Dis Loss: 1.0579/0.6401\n",
            "Epoch: 090/100 | Batch 100/469 | Gen/Dis Loss: 0.7899/0.6570\n",
            "Epoch: 090/100 | Batch 200/469 | Gen/Dis Loss: 0.8968/0.6600\n",
            "Epoch: 090/100 | Batch 300/469 | Gen/Dis Loss: 0.9016/0.6699\n",
            "Epoch: 090/100 | Batch 400/469 | Gen/Dis Loss: 0.9036/0.6539\n",
            "Time elapsed: 12.83 min\n",
            "Epoch: 091/100 | Batch 000/469 | Gen/Dis Loss: 0.8792/0.6705\n",
            "Epoch: 091/100 | Batch 100/469 | Gen/Dis Loss: 0.7741/0.6522\n",
            "Epoch: 091/100 | Batch 200/469 | Gen/Dis Loss: 0.8131/0.6488\n",
            "Epoch: 091/100 | Batch 300/469 | Gen/Dis Loss: 0.7861/0.6646\n",
            "Epoch: 091/100 | Batch 400/469 | Gen/Dis Loss: 0.8842/0.6384\n",
            "Time elapsed: 12.97 min\n",
            "Epoch: 092/100 | Batch 000/469 | Gen/Dis Loss: 0.7797/0.6444\n",
            "Epoch: 092/100 | Batch 100/469 | Gen/Dis Loss: 0.7879/0.6223\n",
            "Epoch: 092/100 | Batch 200/469 | Gen/Dis Loss: 0.8479/0.6463\n",
            "Epoch: 092/100 | Batch 300/469 | Gen/Dis Loss: 0.7550/0.6644\n",
            "Epoch: 092/100 | Batch 400/469 | Gen/Dis Loss: 0.7217/0.6547\n",
            "Time elapsed: 13.12 min\n",
            "Epoch: 093/100 | Batch 000/469 | Gen/Dis Loss: 0.8264/0.6498\n",
            "Epoch: 093/100 | Batch 100/469 | Gen/Dis Loss: 0.7987/0.6601\n",
            "Epoch: 093/100 | Batch 200/469 | Gen/Dis Loss: 0.8203/0.6568\n",
            "Epoch: 093/100 | Batch 300/469 | Gen/Dis Loss: 0.8215/0.6586\n",
            "Epoch: 093/100 | Batch 400/469 | Gen/Dis Loss: 0.9054/0.6344\n",
            "Time elapsed: 13.25 min\n",
            "Epoch: 094/100 | Batch 000/469 | Gen/Dis Loss: 0.8027/0.6515\n",
            "Epoch: 094/100 | Batch 100/469 | Gen/Dis Loss: 0.8392/0.6565\n",
            "Epoch: 094/100 | Batch 200/469 | Gen/Dis Loss: 0.7787/0.6527\n",
            "Epoch: 094/100 | Batch 300/469 | Gen/Dis Loss: 0.8582/0.6539\n",
            "Epoch: 094/100 | Batch 400/469 | Gen/Dis Loss: 0.8878/0.6303\n",
            "Time elapsed: 13.39 min\n",
            "Epoch: 095/100 | Batch 000/469 | Gen/Dis Loss: 0.7092/0.6197\n",
            "Epoch: 095/100 | Batch 100/469 | Gen/Dis Loss: 1.0523/0.6183\n",
            "Epoch: 095/100 | Batch 200/469 | Gen/Dis Loss: 0.8444/0.6715\n",
            "Epoch: 095/100 | Batch 300/469 | Gen/Dis Loss: 0.8003/0.6500\n",
            "Epoch: 095/100 | Batch 400/469 | Gen/Dis Loss: 0.7506/0.6622\n",
            "Time elapsed: 13.54 min\n",
            "Epoch: 096/100 | Batch 000/469 | Gen/Dis Loss: 0.7521/0.6389\n",
            "Epoch: 096/100 | Batch 100/469 | Gen/Dis Loss: 0.8078/0.6585\n",
            "Epoch: 096/100 | Batch 200/469 | Gen/Dis Loss: 0.8225/0.6679\n",
            "Epoch: 096/100 | Batch 300/469 | Gen/Dis Loss: 0.8036/0.6389\n",
            "Epoch: 096/100 | Batch 400/469 | Gen/Dis Loss: 0.8344/0.6577\n",
            "Time elapsed: 13.68 min\n",
            "Epoch: 097/100 | Batch 000/469 | Gen/Dis Loss: 0.8468/0.6484\n",
            "Epoch: 097/100 | Batch 100/469 | Gen/Dis Loss: 0.8051/0.6620\n",
            "Epoch: 097/100 | Batch 200/469 | Gen/Dis Loss: 0.9265/0.6282\n",
            "Epoch: 097/100 | Batch 300/469 | Gen/Dis Loss: 0.8306/0.6654\n",
            "Epoch: 097/100 | Batch 400/469 | Gen/Dis Loss: 0.8042/0.6306\n",
            "Time elapsed: 13.81 min\n",
            "Epoch: 098/100 | Batch 000/469 | Gen/Dis Loss: 0.8349/0.6458\n",
            "Epoch: 098/100 | Batch 100/469 | Gen/Dis Loss: 0.7778/0.6550\n",
            "Epoch: 098/100 | Batch 200/469 | Gen/Dis Loss: 0.8141/0.6365\n",
            "Epoch: 098/100 | Batch 300/469 | Gen/Dis Loss: 0.8089/0.6488\n",
            "Epoch: 098/100 | Batch 400/469 | Gen/Dis Loss: 0.8943/0.6109\n",
            "Time elapsed: 13.96 min\n",
            "Epoch: 099/100 | Batch 000/469 | Gen/Dis Loss: 0.8199/0.6301\n",
            "Epoch: 099/100 | Batch 100/469 | Gen/Dis Loss: 0.7909/0.6626\n",
            "Epoch: 099/100 | Batch 200/469 | Gen/Dis Loss: 0.8168/0.6234\n",
            "Epoch: 099/100 | Batch 300/469 | Gen/Dis Loss: 0.9570/0.6211\n",
            "Epoch: 099/100 | Batch 400/469 | Gen/Dis Loss: 0.8314/0.6465\n",
            "Time elapsed: 14.12 min\n",
            "Epoch: 100/100 | Batch 000/469 | Gen/Dis Loss: 0.7888/0.6222\n",
            "Epoch: 100/100 | Batch 100/469 | Gen/Dis Loss: 0.8366/0.6745\n",
            "Epoch: 100/100 | Batch 200/469 | Gen/Dis Loss: 0.7480/0.6637\n",
            "Epoch: 100/100 | Batch 300/469 | Gen/Dis Loss: 0.8517/0.6412\n",
            "Epoch: 100/100 | Batch 400/469 | Gen/Dis Loss: 0.7900/0.6393\n",
            "Time elapsed: 14.25 min\n",
            "Total Training Time: 14.25 min\n"
          ]
        }
      ]
    },
    {
      "cell_type": "markdown",
      "source": [
        "## Evaluation"
      ],
      "metadata": {
        "id": "juG9LbDMZRUW"
      }
    },
    {
      "cell_type": "code",
      "source": [
        "# Move the lists gener_costs and discr_costs to CPU\n",
        "gener_costs_cpu = [cost.cpu().item() for cost in gener_costs]\n",
        "discr_costs_cpu = [cost.cpu().item() for cost in discr_costs]"
      ],
      "metadata": {
        "id": "JENvrTVhhgot"
      },
      "execution_count": null,
      "outputs": []
    },
    {
      "cell_type": "code",
      "source": [
        "ax1 = plt.subplot(1, 1, 1) # Create a subplot with 1 row, 1 column, and select the first subplot\n",
        "ax1.plot(range(len(gener_costs_cpu)), gener_costs_cpu, label='Generator loss') # Plot the generator loss over iterations\n",
        "ax1.plot(range(len(discr_costs_cpu)), discr_costs_cpu, label='Discriminator loss') # Plot the discriminator loss over iterations\n",
        "ax1.set_xlabel('Iterations') # Set the label for the x-axis\n",
        "ax1.set_ylabel('Loss')  # Set the label for the y-axis\n",
        "ax1.legend() # Add a legend to the plot\n",
        "\n",
        "###################\n",
        "# Set second x-axis\n",
        "ax2 = ax1.twiny() # Create a second x-axis sharing the same y-axis with ax1\n",
        "newlabel = list(range(NUM_EPOCHS+1)) # Create new labels for the epochs\n",
        "iter_per_epoch = len(train_loader) # Calculate the number of iterations per epoch\n",
        "newpos = [e*iter_per_epoch for e in newlabel] # Calculate the positions for the new x-ticks\n",
        "ax2.set_xticklabels(newlabel[::10]) # Set the x-tick labels for the second x-axis\n",
        "ax2.set_xticks(newpos[::10]) # Set the x-tick positions for the second x-axis\n",
        "ax2.xaxis.set_ticks_position('bottom') # Set the ticks position to bottom for the second x-axis\n",
        "ax2.xaxis.set_label_position('bottom') # Set the label position to bottom for the second x-axis\n",
        "ax2.spines['bottom'].set_position(('outward', 45)) # Set the position of the bottom spine for the second x-axis\n",
        "ax2.set_xlabel('Epochs') # Set the label for the x-axis of the second x-axis\n",
        "ax2.set_xlim(ax1.get_xlim()) # Set the limits for the second x-axis to match the first x-axis\n",
        "###################\n",
        "\n",
        "# Display the plot\n",
        "plt.show()\n"
      ],
      "metadata": {
        "id": "5RNJtQdRZR51",
        "colab": {
          "base_uri": "https://localhost:8080/",
          "height": 547
        },
        "outputId": "fd65b3e5-ceb9-4b82-fe37-bce597487848"
      },
      "execution_count": null,
      "outputs": [
        {
          "output_type": "stream",
          "name": "stderr",
          "text": [
            "<ipython-input-15-cc746abdb815>:14: UserWarning: FixedFormatter should only be used together with FixedLocator\n",
            "  ax2.set_xticklabels(newlabel[::10]) # Set the x-tick labels for the second x-axis\n"
          ]
        },
        {
          "output_type": "display_data",
          "data": {
            "text/plain": [
              "<Figure size 640x480 with 2 Axes>"
            ],
            "image/png": "[encoded data removed]"
          },
          "metadata": {}
        }
      ]
    },
    {
      "cell_type": "code",
      "source": [
        "##########################\n",
        "### VISUALIZATION\n",
        "##########################\n",
        "\n",
        "# Set the model to evaluation mode\n",
        "model.eval()\n",
        "\n",
        "# Generate new images by feeding random noise through the generator\n",
        "z = torch.zeros((5, LATENT_DIM)).uniform_(-1.0, 1.0).to(device)\n",
        "generated_features = model.generator_forward(z)\n",
        "\n",
        "# Reshape the generated features into image format\n",
        "imgs = generated_features.view(-1, 28, 28)\n",
        "\n",
        "# Create a subplot with 1 row and 5 columns, specifying the figure size\n",
        "fig, axes = plt.subplots(nrows=1, ncols=5, figsize=(20, 2.5))\n",
        "\n",
        "# Iterate over the generated images and corresponding axes for plotting\n",
        "for i, ax in enumerate(axes):\n",
        "    # Display each generated image on its corresponding axis\n",
        "    # Transfer the image data to CPU and detach it from the computational graph\n",
        "    axes[i].imshow(imgs[i].to(torch.device('cpu')).detach(), cmap='binary')\n"
      ],
      "metadata": {
        "id": "M_A7viG3ZWKQ",
        "colab": {
          "base_uri": "https://localhost:8080/",
          "height": 255
        },
        "outputId": "c6721460-03db-4f25-f34d-c76db22a1999"
      },
      "execution_count": null,
      "outputs": [
        {
          "output_type": "display_data",
          "data": {
            "text/plain": [
              "<Figure size 2000x250 with 5 Axes>"
            ],
            "image/png": "[encoded data removed]"
          },
          "metadata": {}
        }
      ]
    }
  ]
}